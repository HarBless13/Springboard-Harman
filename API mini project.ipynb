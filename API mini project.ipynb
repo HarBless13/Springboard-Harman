{
 "cells": [
  {
   "cell_type": "code",
   "execution_count": 1,
   "id": "8c28fcde-5cdc-415b-ad9b-bc47adb937a1",
   "metadata": {},
   "outputs": [],
   "source": [
    "# Import Libraries\n",
    "import requests\n",
    "import pandas as pd\n",
    "import matplotlib.pyplot as plt\n",
    "\n",
    "# Configure matplotlib for inline display in Jupyter\n",
    "%matplotlib inline"
   ]
  },
  {
   "cell_type": "code",
   "execution_count": 4,
   "id": "93c06010-fa89-4a1d-9adc-ecb55fb3a8ee",
   "metadata": {},
   "outputs": [],
   "source": [
    "# Step 1: Set Up Parameters\n",
    "\n",
    "# Location coordinates for London\n",
    "lat_ldn = 51.5074\n",
    "lon_ldn = -0.1278\n",
    "tz_ldn = \"Europe/London\"\n",
    "\n",
    "# Location coordinates for Seattle\n",
    "lat_sea = 47.6062\n",
    "lon_sea = -122.3321\n",
    "tz_sea = \"America/Los_Angeles\"\n",
    "\n",
    "# Date range (full year of 2022)\n",
    "start_date = '2022-01-01'\n",
    "end_date = '2022-12-31'  \n",
    "\n",
    "# Variables to fetch\n",
    "hourly_variables = ['precipitation'] # mm per hour"
   ]
  },
  {
   "cell_type": "code",
   "execution_count": 5,
   "id": "10b78f10-e9bc-4ac3-aae1-aae9f7251228",
   "metadata": {},
   "outputs": [],
   "source": [
    "# Step 2: Make the API Request\n",
    "\n",
    "base_url = \"https://archive-api.open-meteo.com/v1/archive\"\n",
    "\n",
    "def fetch_city_precip(lat, lon, tz, start_date, end_date, hourly_vars):\n",
    "    params = {\n",
    "        \"latitude\": lat,\n",
    "        \"longitude\": lon,\n",
    "        \"start_date\": start_date,\n",
    "        \"end_date\": end_date,\n",
    "        \"hourly\": \",\".join(hourly_vars),\n",
    "        \"timezone\": tz\n",
    "    }\n",
    "    response = requests.get(base_url, params=params, timeout=60)\n",
    "    return response\n",
    "\n",
    "resp_ldn = fetch_city_precip(lat_ldn, lon_ldn, tz_ldn, start_date, end_date, hourly_variables)\n",
    "resp_sea = fetch_city_precip(lat_sea, lon_sea, tz_sea, start_date, end_date, hourly_variables)\n"
   ]
  },
  {
   "cell_type": "code",
   "execution_count": 7,
   "id": "d918e564-0d0d-4dd9-af68-d9724ef9b4c3",
   "metadata": {},
   "outputs": [
    {
     "name": "stdout",
     "output_type": "stream",
     "text": [
      "Data fetched successfully for both cities!\n"
     ]
    }
   ],
   "source": [
    "# Check if the request was successful\n",
    "\n",
    "if resp_ldn.status_code == 200 and resp_sea.status_code == 200:\n",
    "    print(\"Data fetched successfully for both cities!\")\n",
    "else:\n",
    "    print(f\"London status: {resp_ldn.status_code}, Seattle status: {resp_sea.status_code}\")"
   ]
  },
  {
   "cell_type": "code",
   "execution_count": 9,
   "id": "d5b8ae24-3c59-4d03-9874-9a0e56c4d0a2",
   "metadata": {},
   "outputs": [
    {
     "data": {
      "text/html": [
       "<div>\n",
       "<style scoped>\n",
       "    .dataframe tbody tr th:only-of-type {\n",
       "        vertical-align: middle;\n",
       "    }\n",
       "\n",
       "    .dataframe tbody tr th {\n",
       "        vertical-align: top;\n",
       "    }\n",
       "\n",
       "    .dataframe thead th {\n",
       "        text-align: right;\n",
       "    }\n",
       "</style>\n",
       "<table border=\"1\" class=\"dataframe\">\n",
       "  <thead>\n",
       "    <tr style=\"text-align: right;\">\n",
       "      <th></th>\n",
       "      <th>time</th>\n",
       "      <th>precipitation</th>\n",
       "    </tr>\n",
       "  </thead>\n",
       "  <tbody>\n",
       "    <tr>\n",
       "      <th>0</th>\n",
       "      <td>2022-01-01 00:00:00</td>\n",
       "      <td>0.0</td>\n",
       "    </tr>\n",
       "    <tr>\n",
       "      <th>1</th>\n",
       "      <td>2022-01-01 01:00:00</td>\n",
       "      <td>0.0</td>\n",
       "    </tr>\n",
       "    <tr>\n",
       "      <th>2</th>\n",
       "      <td>2022-01-01 02:00:00</td>\n",
       "      <td>0.0</td>\n",
       "    </tr>\n",
       "    <tr>\n",
       "      <th>3</th>\n",
       "      <td>2022-01-01 03:00:00</td>\n",
       "      <td>0.0</td>\n",
       "    </tr>\n",
       "    <tr>\n",
       "      <th>4</th>\n",
       "      <td>2022-01-01 04:00:00</td>\n",
       "      <td>0.0</td>\n",
       "    </tr>\n",
       "  </tbody>\n",
       "</table>\n",
       "</div>"
      ],
      "text/plain": [
       "                 time  precipitation\n",
       "0 2022-01-01 00:00:00            0.0\n",
       "1 2022-01-01 01:00:00            0.0\n",
       "2 2022-01-01 02:00:00            0.0\n",
       "3 2022-01-01 03:00:00            0.0\n",
       "4 2022-01-01 04:00:00            0.0"
      ]
     },
     "execution_count": 9,
     "metadata": {},
     "output_type": "execute_result"
    }
   ],
   "source": [
    "# Step 3: Load data into Pandas dataframe\n",
    "\n",
    "# London\n",
    "data_ldn = resp_ldn.json()\n",
    "hourly_ldn = data_ldn[\"hourly\"]\n",
    "df_ldn = pd.DataFrame({\n",
    "    \"time\": pd.to_datetime(hourly_ldn[\"time\"]),\n",
    "    \"precipitation\": pd.to_numeric(hourly_ldn[\"precipitation\"], errors=\"coerce\")\n",
    "})\n",
    "df_ldn.head()\n",
    "\n"
   ]
  },
  {
   "cell_type": "code",
   "execution_count": 11,
   "id": "b4e8208d-e657-4fe7-9887-2a00e1017fca",
   "metadata": {},
   "outputs": [
    {
     "data": {
      "text/html": [
       "<div>\n",
       "<style scoped>\n",
       "    .dataframe tbody tr th:only-of-type {\n",
       "        vertical-align: middle;\n",
       "    }\n",
       "\n",
       "    .dataframe tbody tr th {\n",
       "        vertical-align: top;\n",
       "    }\n",
       "\n",
       "    .dataframe thead th {\n",
       "        text-align: right;\n",
       "    }\n",
       "</style>\n",
       "<table border=\"1\" class=\"dataframe\">\n",
       "  <thead>\n",
       "    <tr style=\"text-align: right;\">\n",
       "      <th></th>\n",
       "      <th>time</th>\n",
       "      <th>precipitation</th>\n",
       "    </tr>\n",
       "  </thead>\n",
       "  <tbody>\n",
       "    <tr>\n",
       "      <th>0</th>\n",
       "      <td>2022-01-01 00:00:00</td>\n",
       "      <td>0.0</td>\n",
       "    </tr>\n",
       "    <tr>\n",
       "      <th>1</th>\n",
       "      <td>2022-01-01 01:00:00</td>\n",
       "      <td>0.0</td>\n",
       "    </tr>\n",
       "    <tr>\n",
       "      <th>2</th>\n",
       "      <td>2022-01-01 02:00:00</td>\n",
       "      <td>0.0</td>\n",
       "    </tr>\n",
       "    <tr>\n",
       "      <th>3</th>\n",
       "      <td>2022-01-01 03:00:00</td>\n",
       "      <td>0.0</td>\n",
       "    </tr>\n",
       "    <tr>\n",
       "      <th>4</th>\n",
       "      <td>2022-01-01 04:00:00</td>\n",
       "      <td>0.0</td>\n",
       "    </tr>\n",
       "  </tbody>\n",
       "</table>\n",
       "</div>"
      ],
      "text/plain": [
       "                 time  precipitation\n",
       "0 2022-01-01 00:00:00            0.0\n",
       "1 2022-01-01 01:00:00            0.0\n",
       "2 2022-01-01 02:00:00            0.0\n",
       "3 2022-01-01 03:00:00            0.0\n",
       "4 2022-01-01 04:00:00            0.0"
      ]
     },
     "execution_count": 11,
     "metadata": {},
     "output_type": "execute_result"
    }
   ],
   "source": [
    "# Step 3: Load data into Pandas dataframe (contd..)\n",
    "\n",
    "# Seattle\n",
    "data_sea = resp_sea.json()\n",
    "hourly_sea = data_sea[\"hourly\"]\n",
    "df_sea = pd.DataFrame({\n",
    "    \"time\": pd.to_datetime(hourly_sea[\"time\"]),\n",
    "    \"precipitation\": pd.to_numeric(hourly_sea[\"precipitation\"], errors=\"coerce\")\n",
    "})\n",
    "df_sea.head()"
   ]
  },
  {
   "cell_type": "code",
   "execution_count": 12,
   "id": "a147457c-c218-42e8-800d-f53c5bdec1ec",
   "metadata": {},
   "outputs": [
    {
     "name": "stdout",
     "output_type": "stream",
     "text": [
      "Missing (London):\n",
      "precipitation    0\n",
      "dtype: int64\n",
      "\n",
      "Missing (Seattle):\n",
      "precipitation    0\n",
      "dtype: int64\n"
     ]
    }
   ],
   "source": [
    "# Step 4: Data Cleaning\n",
    "\n",
    "# Convert 'time' column to datetime index\n",
    "\n",
    "# London\n",
    "df_ldn = df_ldn.set_index(\"time\").sort_index()\n",
    "# Precipitation: fill missing with 0 (safe for accumulation)\n",
    "df_ldn[\"precipitation\"] = df_ldn[\"precipitation\"].fillna(0)\n",
    "\n",
    "# Seattle\n",
    "df_sea = df_sea.set_index(\"time\").sort_index()\n",
    "df_sea[\"precipitation\"] = df_sea[\"precipitation\"].fillna(0)\n",
    "\n",
    "# Quick missing values check\n",
    "print(\"Missing (London):\")\n",
    "print(df_ldn.isnull().sum())\n",
    "print(\"\\nMissing (Seattle):\")\n",
    "print(df_sea.isnull().sum())\n"
   ]
  },
  {
   "cell_type": "code",
   "execution_count": 14,
   "id": "ecb73581-61ee-454e-a37a-ac2a5358ec0f",
   "metadata": {},
   "outputs": [
    {
     "name": "stderr",
     "output_type": "stream",
     "text": [
      "C:\\Users\\Harmandeep Kaur\\AppData\\Local\\Temp\\ipykernel_83512\\2983535497.py:2: FutureWarning: DataFrame.fillna with 'method' is deprecated and will raise in a future version. Use obj.ffill() or obj.bfill() instead.\n",
      "  df_ldn.fillna(method='ffill', inplace=True)  # Forward fill\n",
      "C:\\Users\\Harmandeep Kaur\\AppData\\Local\\Temp\\ipykernel_83512\\2983535497.py:3: FutureWarning: DataFrame.fillna with 'method' is deprecated and will raise in a future version. Use obj.ffill() or obj.bfill() instead.\n",
      "  df_sea.fillna(method='ffill', inplace=True)\n"
     ]
    }
   ],
   "source": [
    "# Handle missing values (if any)\n",
    "df_ldn.fillna(method='ffill', inplace=True)  # Forward fill\n",
    "df_sea.fillna(method='ffill', inplace=True)\n"
   ]
  },
  {
   "cell_type": "code",
   "execution_count": 22,
   "id": "5f4bfb2e-d20f-42d5-8074-5b9b20777387",
   "metadata": {},
   "outputs": [
    {
     "data": {
      "text/html": [
       "<div>\n",
       "<style scoped>\n",
       "    .dataframe tbody tr th:only-of-type {\n",
       "        vertical-align: middle;\n",
       "    }\n",
       "\n",
       "    .dataframe tbody tr th {\n",
       "        vertical-align: top;\n",
       "    }\n",
       "\n",
       "    .dataframe thead th {\n",
       "        text-align: right;\n",
       "    }\n",
       "</style>\n",
       "<table border=\"1\" class=\"dataframe\">\n",
       "  <thead>\n",
       "    <tr style=\"text-align: right;\">\n",
       "      <th></th>\n",
       "      <th>London</th>\n",
       "      <th>Seattle</th>\n",
       "    </tr>\n",
       "    <tr>\n",
       "      <th>time</th>\n",
       "      <th></th>\n",
       "      <th></th>\n",
       "    </tr>\n",
       "  </thead>\n",
       "  <tbody>\n",
       "    <tr>\n",
       "      <th>2022-01-02</th>\n",
       "      <td>2.2</td>\n",
       "      <td>31.3</td>\n",
       "    </tr>\n",
       "    <tr>\n",
       "      <th>2022-01-09</th>\n",
       "      <td>12.9</td>\n",
       "      <td>108.8</td>\n",
       "    </tr>\n",
       "    <tr>\n",
       "      <th>2022-01-16</th>\n",
       "      <td>3.1</td>\n",
       "      <td>45.5</td>\n",
       "    </tr>\n",
       "    <tr>\n",
       "      <th>2022-01-23</th>\n",
       "      <td>0.0</td>\n",
       "      <td>15.7</td>\n",
       "    </tr>\n",
       "    <tr>\n",
       "      <th>2022-01-30</th>\n",
       "      <td>0.1</td>\n",
       "      <td>6.1</td>\n",
       "    </tr>\n",
       "  </tbody>\n",
       "</table>\n",
       "</div>"
      ],
      "text/plain": [
       "            London  Seattle\n",
       "time                       \n",
       "2022-01-02     2.2     31.3\n",
       "2022-01-09    12.9    108.8\n",
       "2022-01-16     3.1     45.5\n",
       "2022-01-23     0.0     15.7\n",
       "2022-01-30     0.1      6.1"
      ]
     },
     "execution_count": 22,
     "metadata": {},
     "output_type": "execute_result"
    }
   ],
   "source": [
    "# Step 5: Resample hourly to weekly\n",
    "\n",
    "# Use a consistent week ending; W-SUN = weeks ending on Sunday\n",
    "weekly_ldn = df_ldn.resample(\"W-SUN\").sum().rename(columns={\"precipitation\":\"London\"})\n",
    "weekly_sea = df_sea.resample(\"W-SUN\").sum().rename(columns={\"precipitation\":\"Seattle\"})\n",
    "\n",
    "# Combine for comparison (same index)\n",
    "weekly_combined = weekly_ldn.join(weekly_sea, how=\"outer\").fillna(0)\n",
    "weekly_combined.head()\n"
   ]
  },
  {
   "cell_type": "code",
   "execution_count": 23,
   "id": "e5a6877d-f99f-47d6-bcd0-73a74df6926e",
   "metadata": {},
   "outputs": [
    {
     "data": {
      "text/html": [
       "<div>\n",
       "<style scoped>\n",
       "    .dataframe tbody tr th:only-of-type {\n",
       "        vertical-align: middle;\n",
       "    }\n",
       "\n",
       "    .dataframe tbody tr th {\n",
       "        vertical-align: top;\n",
       "    }\n",
       "\n",
       "    .dataframe thead th {\n",
       "        text-align: right;\n",
       "    }\n",
       "</style>\n",
       "<table border=\"1\" class=\"dataframe\">\n",
       "  <thead>\n",
       "    <tr style=\"text-align: right;\">\n",
       "      <th></th>\n",
       "      <th>precipitation</th>\n",
       "    </tr>\n",
       "  </thead>\n",
       "  <tbody>\n",
       "    <tr>\n",
       "      <th>count</th>\n",
       "      <td>8760.000000</td>\n",
       "    </tr>\n",
       "    <tr>\n",
       "      <th>mean</th>\n",
       "      <td>0.075662</td>\n",
       "    </tr>\n",
       "    <tr>\n",
       "      <th>std</th>\n",
       "      <td>0.404500</td>\n",
       "    </tr>\n",
       "    <tr>\n",
       "      <th>min</th>\n",
       "      <td>0.000000</td>\n",
       "    </tr>\n",
       "    <tr>\n",
       "      <th>25%</th>\n",
       "      <td>0.000000</td>\n",
       "    </tr>\n",
       "    <tr>\n",
       "      <th>50%</th>\n",
       "      <td>0.000000</td>\n",
       "    </tr>\n",
       "    <tr>\n",
       "      <th>75%</th>\n",
       "      <td>0.000000</td>\n",
       "    </tr>\n",
       "    <tr>\n",
       "      <th>max</th>\n",
       "      <td>14.700000</td>\n",
       "    </tr>\n",
       "  </tbody>\n",
       "</table>\n",
       "</div>"
      ],
      "text/plain": [
       "       precipitation\n",
       "count    8760.000000\n",
       "mean        0.075662\n",
       "std         0.404500\n",
       "min         0.000000\n",
       "25%         0.000000\n",
       "50%         0.000000\n",
       "75%         0.000000\n",
       "max        14.700000"
      ]
     },
     "execution_count": 23,
     "metadata": {},
     "output_type": "execute_result"
    }
   ],
   "source": [
    "# Step 6: EDA\n",
    "\n",
    "df_ldn.describe()\n"
   ]
  },
  {
   "cell_type": "code",
   "execution_count": 24,
   "id": "a27c9ff1-baba-48a2-bbfd-85293f5e0a3a",
   "metadata": {},
   "outputs": [
    {
     "data": {
      "text/html": [
       "<div>\n",
       "<style scoped>\n",
       "    .dataframe tbody tr th:only-of-type {\n",
       "        vertical-align: middle;\n",
       "    }\n",
       "\n",
       "    .dataframe tbody tr th {\n",
       "        vertical-align: top;\n",
       "    }\n",
       "\n",
       "    .dataframe thead th {\n",
       "        text-align: right;\n",
       "    }\n",
       "</style>\n",
       "<table border=\"1\" class=\"dataframe\">\n",
       "  <thead>\n",
       "    <tr style=\"text-align: right;\">\n",
       "      <th></th>\n",
       "      <th>precipitation</th>\n",
       "    </tr>\n",
       "  </thead>\n",
       "  <tbody>\n",
       "    <tr>\n",
       "      <th>count</th>\n",
       "      <td>8760.000000</td>\n",
       "    </tr>\n",
       "    <tr>\n",
       "      <th>mean</th>\n",
       "      <td>0.129132</td>\n",
       "    </tr>\n",
       "    <tr>\n",
       "      <th>std</th>\n",
       "      <td>0.463708</td>\n",
       "    </tr>\n",
       "    <tr>\n",
       "      <th>min</th>\n",
       "      <td>0.000000</td>\n",
       "    </tr>\n",
       "    <tr>\n",
       "      <th>25%</th>\n",
       "      <td>0.000000</td>\n",
       "    </tr>\n",
       "    <tr>\n",
       "      <th>50%</th>\n",
       "      <td>0.000000</td>\n",
       "    </tr>\n",
       "    <tr>\n",
       "      <th>75%</th>\n",
       "      <td>0.000000</td>\n",
       "    </tr>\n",
       "    <tr>\n",
       "      <th>max</th>\n",
       "      <td>7.700000</td>\n",
       "    </tr>\n",
       "  </tbody>\n",
       "</table>\n",
       "</div>"
      ],
      "text/plain": [
       "       precipitation\n",
       "count    8760.000000\n",
       "mean        0.129132\n",
       "std         0.463708\n",
       "min         0.000000\n",
       "25%         0.000000\n",
       "50%         0.000000\n",
       "75%         0.000000\n",
       "max         7.700000"
      ]
     },
     "execution_count": 24,
     "metadata": {},
     "output_type": "execute_result"
    }
   ],
   "source": [
    "df_sea.describe()"
   ]
  },
  {
   "cell_type": "code",
   "execution_count": 25,
   "id": "02382ece-45f4-4cde-8dff-61ef702ba188",
   "metadata": {},
   "outputs": [
    {
     "data": {
      "image/png": "[encoded data removed]",
      "text/plain": [
       "<Figure size 1200x400 with 1 Axes>"
      ]
     },
     "metadata": {},
     "output_type": "display_data"
    }
   ],
   "source": [
    "# Visualisation (weekly total rainfall)\n",
    "\n",
    "plt.figure(figsize=(12,4))\n",
    "plt.plot(weekly_combined.index, weekly_combined[\"London\"], label=\"London\")\n",
    "plt.plot(weekly_combined.index, weekly_combined[\"Seattle\"], label=\"Seattle\")\n",
    "plt.title(\"Weekly Total Precipitation (mm) — 2022\")\n",
    "plt.xlabel(\"Week\")\n",
    "plt.ylabel(\"Precipitation (mm)\")\n",
    "plt.grid(True, alpha=0.3)\n",
    "plt.legend()\n",
    "plt.tight_layout()\n",
    "plt.show()\n"
   ]
  },
  {
   "cell_type": "code",
   "execution_count": 26,
   "id": "61fcc1f5-a5d4-441c-b452-826a48ddd76c",
   "metadata": {},
   "outputs": [
    {
     "name": "stdout",
     "output_type": "stream",
     "text": [
      "Total precipitation in 2022 (mm):\n",
      "Seattle    1131.2\n",
      "London      662.8\n",
      "dtype: float64\n",
      "\n",
      "London — Top 3 wettest weeks:\n"
     ]
    },
    {
     "data": {
      "text/html": [
       "<div>\n",
       "<style scoped>\n",
       "    .dataframe tbody tr th:only-of-type {\n",
       "        vertical-align: middle;\n",
       "    }\n",
       "\n",
       "    .dataframe tbody tr th {\n",
       "        vertical-align: top;\n",
       "    }\n",
       "\n",
       "    .dataframe thead th {\n",
       "        text-align: right;\n",
       "    }\n",
       "</style>\n",
       "<table border=\"1\" class=\"dataframe\">\n",
       "  <thead>\n",
       "    <tr style=\"text-align: right;\">\n",
       "      <th></th>\n",
       "      <th>London</th>\n",
       "    </tr>\n",
       "    <tr>\n",
       "      <th>time</th>\n",
       "      <th></th>\n",
       "    </tr>\n",
       "  </thead>\n",
       "  <tbody>\n",
       "    <tr>\n",
       "      <th>2022-11-06</th>\n",
       "      <td>67.8</td>\n",
       "    </tr>\n",
       "    <tr>\n",
       "      <th>2022-11-20</th>\n",
       "      <td>44.1</td>\n",
       "    </tr>\n",
       "    <tr>\n",
       "      <th>2022-05-22</th>\n",
       "      <td>37.8</td>\n",
       "    </tr>\n",
       "  </tbody>\n",
       "</table>\n",
       "</div>"
      ],
      "text/plain": [
       "            London\n",
       "time              \n",
       "2022-11-06    67.8\n",
       "2022-11-20    44.1\n",
       "2022-05-22    37.8"
      ]
     },
     "metadata": {},
     "output_type": "display_data"
    },
    {
     "name": "stdout",
     "output_type": "stream",
     "text": [
      "\n",
      "Seattle — Top 3 wettest weeks:\n"
     ]
    },
    {
     "data": {
      "text/html": [
       "<div>\n",
       "<style scoped>\n",
       "    .dataframe tbody tr th:only-of-type {\n",
       "        vertical-align: middle;\n",
       "    }\n",
       "\n",
       "    .dataframe tbody tr th {\n",
       "        vertical-align: top;\n",
       "    }\n",
       "\n",
       "    .dataframe thead th {\n",
       "        text-align: right;\n",
       "    }\n",
       "</style>\n",
       "<table border=\"1\" class=\"dataframe\">\n",
       "  <thead>\n",
       "    <tr style=\"text-align: right;\">\n",
       "      <th></th>\n",
       "      <th>Seattle</th>\n",
       "    </tr>\n",
       "    <tr>\n",
       "      <th>time</th>\n",
       "      <th></th>\n",
       "    </tr>\n",
       "  </thead>\n",
       "  <tbody>\n",
       "    <tr>\n",
       "      <th>2022-01-09</th>\n",
       "      <td>108.8</td>\n",
       "    </tr>\n",
       "    <tr>\n",
       "      <th>2023-01-01</th>\n",
       "      <td>74.8</td>\n",
       "    </tr>\n",
       "    <tr>\n",
       "      <th>2022-03-06</th>\n",
       "      <td>70.0</td>\n",
       "    </tr>\n",
       "  </tbody>\n",
       "</table>\n",
       "</div>"
      ],
      "text/plain": [
       "            Seattle\n",
       "time               \n",
       "2022-01-09    108.8\n",
       "2023-01-01     74.8\n",
       "2022-03-06     70.0"
      ]
     },
     "metadata": {},
     "output_type": "display_data"
    }
   ],
   "source": [
    "# Other Analysis\n",
    "\n",
    "# Annual totals\n",
    "totals_2022 = weekly_combined.sum().sort_values(ascending=False)\n",
    "print(\"Total precipitation in 2022 (mm):\")\n",
    "print(totals_2022)\n",
    "\n",
    "# Wettest 3 weeks per city (with week ending dates)\n",
    "top3_ldn = weekly_ldn.sort_values(\"London\", ascending=False).head(3)\n",
    "top3_sea = weekly_sea.sort_values(\"Seattle\", ascending=False).head(3)\n",
    "\n",
    "print(\"\\nLondon — Top 3 wettest weeks:\")\n",
    "display(top3_ldn)\n",
    "\n",
    "print(\"\\nSeattle — Top 3 wettest weeks:\")\n",
    "display(top3_sea)\n"
   ]
  },
  {
   "cell_type": "code",
   "execution_count": 28,
   "id": "13e54910-9e8e-4198-bffc-4bbf62e17eed",
   "metadata": {},
   "outputs": [
    {
     "data": {
      "image/png": "[encoded data removed]",
      "text/plain": [
       "<Figure size 400x300 with 1 Axes>"
      ]
     },
     "metadata": {},
     "output_type": "display_data"
    }
   ],
   "source": [
    "# Bar chart showing total precipitation in 2022 of both cities\n",
    "\n",
    "ax = totals_2022.plot(kind=\"bar\", figsize=(4,3), title=\"2022 Total Precipitation (mm)\")\n",
    "ax.set_ylabel(\"mm\")\n",
    "plt.tight_layout()\n",
    "plt.show()"
   ]
  },
  {
   "cell_type": "code",
   "execution_count": 29,
   "id": "2ea04353-1c89-4760-9190-f7e4996d2fee",
   "metadata": {},
   "outputs": [],
   "source": [
    "# Saving the files\n",
    "\n",
    "weekly_combined.to_csv(\"weekly_precip_2022_london_vs_seattle.csv\")\n",
    "df_ldn.reset_index().to_csv(\"hourly_precip_2022_london.csv\", index=False)\n",
    "df_sea.reset_index().to_csv(\"hourly_precip_2022_seattle.csv\", index=False)"
   ]
  },
  {
   "cell_type": "markdown",
   "id": "7d02c7ce-e12d-433a-812a-7e0062bfe83a",
   "metadata": {},
   "source": [
    "### Analysis\n",
    "In 2022, Seattle recorded about 1131 mm of rainfall compared to London’s 663 mm, making Seattle roughly 70% wetter overall. The weekly totals show that Seattle experiences intense rainfall spikes in winter and early spring (e.g., over 100 mm in early January), while its summers are relatively dry. London, on the other hand, shows more consistent but moderate rainfall spread across the year, with smaller peaks in May and November. Interestingly, both cities saw higher rainfall in late autumn (November), suggesting seasonal storm activity. Overall, Seattle’s rainfall pattern is more burst-like and seasonal, while London’s is steadier and less extreme.\n",
    "\n",
    "Limitations: These results use open mateo data at city-center coordinates, which may not perfectly reflect official station measurements or account for local variations. Weekly aggregation also smooths out daily extremes."
   ]
  },
  {
   "cell_type": "code",
   "execution_count": null,
   "id": "17927222-e9d3-4f8a-82f8-56ae8a48c543",
   "metadata": {},
   "outputs": [],
   "source": []
  }
 ],
 "metadata": {
  "kernelspec": {
   "display_name": "Python 3 (ipykernel)",
   "language": "python",
   "name": "python3"
  },
  "language_info": {
   "codemirror_mode": {
    "name": "ipython",
    "version": 3
   },
   "file_extension": ".py",
   "mimetype": "text/x-python",
   "name": "python",
   "nbconvert_exporter": "python",
   "pygments_lexer": "ipython3",
   "version": "3.11.7"
  }
 },
 "nbformat": 4,
 "nbformat_minor": 5
}
