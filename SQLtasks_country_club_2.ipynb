{
 "cells": [
  {
   "cell_type": "code",
   "execution_count": 8,
   "id": "8fe4d98c-78da-4e4d-b0b1-48f7458ef2cb",
   "metadata": {},
   "outputs": [
    {
     "name": "stdout",
     "output_type": "stream",
     "text": [
      "Connected! SQLite version: 2.6.0\n",
      "Query result:\n",
      "(0, 'Tennis Court 1', 5, 25, 10000, 200)\n",
      "(1, 'Tennis Court 2', 5, 25, 8000, 200)\n",
      "(2, 'Badminton Court', 0, 15.5, 4000, 50)\n",
      "(3, 'Table Tennis', 0, 5, 320, 10)\n",
      "(4, 'Massage Room 1', 9.9, 80, 4000, 3000)\n"
     ]
    }
   ],
   "source": [
    "import sqlite3\n",
    "from sqlite3 import Error\n",
    "\n",
    "def create_connection(db_file):\n",
    "    \"\"\" create a database connection to the SQLite database \"\"\"\n",
    "    conn = None\n",
    "    try:\n",
    "        conn = sqlite3.connect(db_file)\n",
    "        print(\"Connected! SQLite version:\", sqlite3.version)\n",
    "    except Error as e:\n",
    "        print(e)\n",
    "    return conn\n",
    "\n",
    "def run_query(conn, sql_query):\n",
    "    \"\"\"\n",
    "    Run any SELECT query and print all rows\n",
    "    \"\"\"\n",
    "    cur = conn.cursor()\n",
    "    cur.execute(sql_query)\n",
    "    rows = cur.fetchall()\n",
    "    for row in rows:\n",
    "        print(row)\n",
    "\n",
    "def main():\n",
    "    database = \"sqlite_db_pythonsqlite.db\"   # 👉 adjust path if needed\n",
    "    conn = create_connection(database)\n",
    "    with conn:\n",
    "        print(\"Query result:\")\n",
    "        # Example: change this query to whatever you want\n",
    "        query1 = \"\"\"\n",
    "            SELECT * FROM Facilities LIMIT 5;\n",
    "        \"\"\"\n",
    "        run_query(conn, query1)\n",
    "\n",
    "if __name__ == '__main__':\n",
    "    main()\n"
   ]
  },
  {
   "cell_type": "code",
   "execution_count": 17,
   "id": "f536ec30-0d34-4aef-b80a-6a12b9123ae0",
   "metadata": {},
   "outputs": [
    {
     "name": "stdout",
     "output_type": "stream",
     "text": [
      "Connected! SQLite version: 2.6.0\n",
      "('Table Tennis', 180)\n",
      "('Snooker Table', 240)\n",
      "('Pool Table', 270)\n"
     ]
    }
   ],
   "source": [
    "# Q10\n",
    "\n",
    "conn = create_connection(\"sqlite_db_pythonsqlite.db\")  \n",
    "\n",
    "query1 = \"\"\"\n",
    "SELECT \n",
    "    f.name AS facility_name,\n",
    "    SUM(CASE \n",
    "            WHEN b.memid = 0 THEN b.slots * f.guestcost\n",
    "            ELSE b.slots * f.membercost\n",
    "        END) AS total_revenue\n",
    "FROM Bookings b\n",
    "JOIN Facilities f ON b.facid = f.facid\n",
    "GROUP BY f.name\n",
    "HAVING SUM(CASE \n",
    "              WHEN b.memid = 0 THEN b.slots * f.guestcost\n",
    "              ELSE b.slots * f.membercost\n",
    "           END) < 1000\n",
    "ORDER BY total_revenue;\n",
    "\"\"\"\n",
    "run_query(conn, query1)"
   ]
  },
  {
   "cell_type": "code",
   "execution_count": 18,
   "id": "c1db7c07-78d7-440e-9a58-9da3316bcd1a",
   "metadata": {},
   "outputs": [
    {
     "name": "stdout",
     "output_type": "stream",
     "text": [
      "Connected! SQLite version: 2.6.0\n",
      "('Bader, Florence', 'Stibbons, Ponder')\n",
      "('Baker, Anne', 'Stibbons, Ponder')\n",
      "('Baker, Timothy', 'Farrell, Jemima')\n",
      "('Boothe, Tim', 'Rownam, Tim')\n",
      "('Butters, Gerald', 'Smith, Darren')\n",
      "('Coplin, Joan', 'Baker, Timothy')\n",
      "('Crumpet, Erica', 'Smith, Tracy')\n",
      "('Dare, Nancy', 'Joplette, Janice')\n",
      "('Farrell, David', None)\n",
      "('Farrell, Jemima', None)\n",
      "('GUEST, GUEST', None)\n",
      "('Genting, Matthew', 'Butters, Gerald')\n",
      "('Hunt, John', 'Purview, Millicent')\n",
      "('Jones, David', 'Joplette, Janice')\n",
      "('Jones, Douglas', 'Jones, David')\n",
      "('Joplette, Janice', 'Smith, Darren')\n",
      "('Mackenzie, Anna', 'Smith, Darren')\n",
      "('Owen, Charles', 'Smith, Darren')\n",
      "('Pinker, David', 'Farrell, Jemima')\n",
      "('Purview, Millicent', 'Smith, Tracy')\n",
      "('Rownam, Tim', None)\n",
      "('Rumney, Henrietta', 'Genting, Matthew')\n",
      "('Sarwin, Ramnaresh', 'Bader, Florence')\n",
      "('Smith, Darren', None)\n",
      "('Smith, Darren', None)\n",
      "('Smith, Jack', 'Smith, Darren')\n",
      "('Smith, Tracy', None)\n",
      "('Stibbons, Ponder', 'Tracy, Burton')\n",
      "('Tracy, Burton', None)\n",
      "('Tupperware, Hyacinth', None)\n",
      "('Worthington-Smyth, Henry', 'Smith, Tracy')\n"
     ]
    }
   ],
   "source": [
    "# Q11\n",
    "\n",
    "conn = create_connection(\"sqlite_db_pythonsqlite.db\")  # adjust if needed\n",
    "\n",
    "query1 = \"\"\"\n",
    "SELECT \n",
    "    m.surname || ', ' || m.firstname AS member_name,\n",
    "    r.surname || ', ' || r.firstname AS recommender_name\n",
    "FROM Members m\n",
    "LEFT JOIN Members r ON m.recommendedby = r.memid\n",
    "ORDER BY m.surname, m.firstname;\n",
    "\"\"\"\n",
    "run_query(conn, query1)"
   ]
  },
  {
   "cell_type": "code",
   "execution_count": 19,
   "id": "d8e6a58e-4928-4f62-a157-ce2b2bb3b51d",
   "metadata": {},
   "outputs": [
    {
     "name": "stdout",
     "output_type": "stream",
     "text": [
      "Connected! SQLite version: 2.6.0\n",
      "('Badminton Court', 1086)\n",
      "('Massage Room 1', 884)\n",
      "('Massage Room 2', 54)\n",
      "('Pool Table', 856)\n",
      "('Snooker Table', 860)\n",
      "('Squash Court', 418)\n",
      "('Table Tennis', 794)\n",
      "('Tennis Court 1', 957)\n",
      "('Tennis Court 2', 882)\n"
     ]
    }
   ],
   "source": [
    "# Q12\n",
    "\n",
    "conn = create_connection(\"sqlite_db_pythonsqlite.db\")  # adjust path if needed\n",
    "\n",
    "query1 = \"\"\"\n",
    "SELECT \n",
    "    f.name AS facility_name,\n",
    "    SUM(b.slots) AS member_usage_slots\n",
    "FROM Bookings b\n",
    "JOIN Facilities f ON b.facid = f.facid\n",
    "WHERE b.memid <> 0              -- exclude guests\n",
    "GROUP BY f.name\n",
    "ORDER BY f.name;\n",
    "\"\"\"\n",
    "\n",
    "run_query(conn, query1)"
   ]
  },
  {
   "cell_type": "code",
   "execution_count": 20,
   "id": "c5cac3aa-1efc-40cd-895a-dbd694a8b233",
   "metadata": {},
   "outputs": [
    {
     "name": "stdout",
     "output_type": "stream",
     "text": [
      "Connected! SQLite version: 2.6.0\n",
      "('Badminton Court', '2012-07', 165)\n",
      "('Badminton Court', '2012-08', 414)\n",
      "('Badminton Court', '2012-09', 507)\n",
      "('Massage Room 1', '2012-07', 166)\n",
      "('Massage Room 1', '2012-08', 316)\n",
      "('Massage Room 1', '2012-09', 402)\n",
      "('Massage Room 2', '2012-07', 8)\n",
      "('Massage Room 2', '2012-08', 18)\n",
      "('Massage Room 2', '2012-09', 28)\n",
      "('Pool Table', '2012-07', 110)\n",
      "('Pool Table', '2012-08', 303)\n",
      "('Pool Table', '2012-09', 443)\n",
      "('Snooker Table', '2012-07', 140)\n",
      "('Snooker Table', '2012-08', 316)\n",
      "('Snooker Table', '2012-09', 404)\n",
      "('Squash Court', '2012-07', 50)\n",
      "('Squash Court', '2012-08', 184)\n",
      "('Squash Court', '2012-09', 184)\n",
      "('Table Tennis', '2012-07', 98)\n",
      "('Table Tennis', '2012-08', 296)\n",
      "('Table Tennis', '2012-09', 400)\n",
      "('Tennis Court 1', '2012-07', 201)\n",
      "('Tennis Court 1', '2012-08', 339)\n",
      "('Tennis Court 1', '2012-09', 417)\n",
      "('Tennis Court 2', '2012-07', 123)\n",
      "('Tennis Court 2', '2012-08', 345)\n",
      "('Tennis Court 2', '2012-09', 414)\n"
     ]
    }
   ],
   "source": [
    "# Q13\n",
    "\n",
    "conn = create_connection(\"sqlite_db_pythonsqlite.db\")  # adjust path if needed\n",
    "\n",
    "query1 = \"\"\"\n",
    "SELECT\n",
    "    f.name AS facility_name,\n",
    "    strftime('%Y-%m', b.starttime) AS year_month,\n",
    "    SUM(b.slots) AS member_usage_slots\n",
    "FROM Bookings b\n",
    "JOIN Facilities f ON b.facid = f.facid\n",
    "WHERE b.memid <> 0                    -- exclude guests\n",
    "GROUP BY f.name, year_month\n",
    "ORDER BY f.name, year_month;\n",
    "\"\"\"\n",
    "\n",
    "run_query(conn, query1)"
   ]
  },
  {
   "cell_type": "code",
   "execution_count": null,
   "id": "6c70ecdf-6238-45ee-b293-0bc2d7625d0f",
   "metadata": {},
   "outputs": [],
   "source": []
  }
 ],
 "metadata": {
  "kernelspec": {
   "display_name": "Python 3 (ipykernel)",
   "language": "python",
   "name": "python3"
  },
  "language_info": {
   "codemirror_mode": {
    "name": "ipython",
    "version": 3
   },
   "file_extension": ".py",
   "mimetype": "text/x-python",
   "name": "python",
   "nbconvert_exporter": "python",
   "pygments_lexer": "ipython3",
   "version": "3.11.7"
  }
 },
 "nbformat": 4,
 "nbformat_minor": 5
}
