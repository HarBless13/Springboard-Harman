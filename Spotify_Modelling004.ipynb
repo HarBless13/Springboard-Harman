{
 "cells": [
  {
   "cell_type": "markdown",
   "id": "a9d06eda",
   "metadata": {},
   "source": [
    "# Complete Churn Modeling \n",
    "This notebook includes the full modeling pipeline:\n",
    "1. Data preparation (encoding, scaling, splitting)\n",
    "2. Baseline model training\n",
    "3. Hyperparameter tuning (LogReg & Random Forest)\n",
    "4. Evaluation\n",
    "5. Final model selection & prediction\n",
    "6. Exporting the model\n",
    "7. Project summary"
   ]
  },
  {
   "cell_type": "code",
   "execution_count": 9,
   "id": "c592bce7",
   "metadata": {},
   "outputs": [],
   "source": [
    "import pandas as pd\n",
    "from sklearn.model_selection import train_test_split\n",
    "from sklearn.preprocessing import StandardScaler\n",
    "import numpy as np\n",
    "\n",
    "# Load and preprocess data\n",
    "df = pd.read_csv('cleaned_spotify_churn.csv')\n",
    "df = pd.get_dummies(df, columns=['Country', 'Device', 'Subscription_Plan', 'Payment_Method'],\n",
    "                    prefix=['Country', 'Device', 'Plan', 'PayMethod'])\n",
    "\n",
    "df['Churn_Binary'] = df['Churn'].map({'Yes': 1, 'No': 0})\n",
    "df.drop('Churn', axis=1, inplace=True)\n",
    "\n",
    "# Scale numeric columns\n",
    "numeric_cols = ['Age', 'Subscription_Length_Months', 'Monthly_Active_Days',\n",
    "                'Avg_Session_Duration_Min', 'Num_Songs_Streamed', 'Num_Failed_Payments']\n",
    "scaler = StandardScaler()\n",
    "df[numeric_cols] = scaler.fit_transform(df[numeric_cols])\n",
    "\n",
    "# Split data\n",
    "X = df.drop('Churn_Binary', axis=1)\n",
    "y = df['Churn_Binary']\n",
    "X_train, X_test, y_train, y_test = train_test_split(X, y, test_size=0.2, random_state=42)\n"
   ]
  },
  {
   "cell_type": "markdown",
   "id": "cbaffd43",
   "metadata": {},
   "source": [
    "#### Baseline Model Training & Evaluation"
   ]
  },
  {
   "cell_type": "code",
   "execution_count": 10,
   "id": "bc053685",
   "metadata": {},
   "outputs": [
    {
     "name": "stdout",
     "output_type": "stream",
     "text": [
      "Logistic Regression Report:\n",
      "              precision    recall  f1-score   support\n",
      "\n",
      "           0       0.58      1.00      0.74      1081\n",
      "           1       0.00      0.00      0.00       777\n",
      "\n",
      "    accuracy                           0.58      1858\n",
      "   macro avg       0.29      0.50      0.37      1858\n",
      "weighted avg       0.34      0.58      0.43      1858\n",
      "\n",
      "Random Forest Report:\n",
      "              precision    recall  f1-score   support\n",
      "\n",
      "           0       0.58      0.84      0.69      1081\n",
      "           1       0.41      0.16      0.23       777\n",
      "\n",
      "    accuracy                           0.55      1858\n",
      "   macro avg       0.50      0.50      0.46      1858\n",
      "weighted avg       0.51      0.55      0.50      1858\n",
      "\n"
     ]
    },
    {
     "name": "stderr",
     "output_type": "stream",
     "text": [
      "C:\\Users\\Harmandeep Kaur\\Anaconda\\Lib\\site-packages\\sklearn\\metrics\\_classification.py:1344: UndefinedMetricWarning: Precision and F-score are ill-defined and being set to 0.0 in labels with no predicted samples. Use `zero_division` parameter to control this behavior.\n",
      "  _warn_prf(average, modifier, msg_start, len(result))\n",
      "C:\\Users\\Harmandeep Kaur\\Anaconda\\Lib\\site-packages\\sklearn\\metrics\\_classification.py:1344: UndefinedMetricWarning: Precision and F-score are ill-defined and being set to 0.0 in labels with no predicted samples. Use `zero_division` parameter to control this behavior.\n",
      "  _warn_prf(average, modifier, msg_start, len(result))\n",
      "C:\\Users\\Harmandeep Kaur\\Anaconda\\Lib\\site-packages\\sklearn\\metrics\\_classification.py:1344: UndefinedMetricWarning: Precision and F-score are ill-defined and being set to 0.0 in labels with no predicted samples. Use `zero_division` parameter to control this behavior.\n",
      "  _warn_prf(average, modifier, msg_start, len(result))\n"
     ]
    }
   ],
   "source": [
    "from sklearn.linear_model import LogisticRegression\n",
    "from sklearn.ensemble import RandomForestClassifier\n",
    "from sklearn.metrics import classification_report\n",
    "\n",
    "# Logistic Regression\n",
    "log_model = LogisticRegression(max_iter=1000, random_state=42)\n",
    "log_model.fit(X_train, y_train)\n",
    "log_pred = log_model.predict(X_test)\n",
    "\n",
    "# Random Forest\n",
    "rf_model = RandomForestClassifier(random_state=42)\n",
    "rf_model.fit(X_train, y_train)\n",
    "rf_pred = rf_model.predict(X_test)\n",
    "\n",
    "print(\"Logistic Regression Report:\")\n",
    "print(classification_report(y_test, log_pred))\n",
    "\n",
    "print(\"Random Forest Report:\")\n",
    "print(classification_report(y_test, rf_pred))\n"
   ]
  },
  {
   "cell_type": "markdown",
   "id": "49dfbb77",
   "metadata": {},
   "source": [
    "#### Hyperparameter Tuning"
   ]
  },
  {
   "cell_type": "code",
   "execution_count": 11,
   "id": "f13a2ab2",
   "metadata": {},
   "outputs": [
    {
     "name": "stdout",
     "output_type": "stream",
     "text": [
      "Best Logistic Regression Parameters: {'C': 1, 'penalty': 'l2', 'solver': 'lbfgs'}\n",
      "Best Random Forest Parameters: {'max_depth': None, 'min_samples_split': 2, 'n_estimators': 100}\n"
     ]
    }
   ],
   "source": [
    "from sklearn.model_selection import GridSearchCV\n",
    "\n",
    "# Logistic Regression tuning\n",
    "log_params = {'C': [0.01, 0.1, 1, 10, 100], 'penalty': ['l2'], 'solver': ['lbfgs']}\n",
    "log_grid = GridSearchCV(LogisticRegression(max_iter=1000), log_params, cv=5, scoring='f1')\n",
    "log_grid.fit(X_train, y_train)\n",
    "\n",
    "# Random Forest tuning\n",
    "rf_params = {'n_estimators': [100, 200], 'max_depth': [None, 10, 20], 'min_samples_split': [2, 5]}\n",
    "rf_grid = GridSearchCV(RandomForestClassifier(random_state=42), rf_params, cv=5, scoring='f1')\n",
    "rf_grid.fit(X_train, y_train)\n",
    "\n",
    "print(\"Best Logistic Regression Parameters:\", log_grid.best_params_)\n",
    "print(\"Best Random Forest Parameters:\", rf_grid.best_params_)\n"
   ]
  },
  {
   "cell_type": "markdown",
   "id": "ddc1c9a6",
   "metadata": {},
   "source": [
    "#### Final Evaluation of Tuned Models"
   ]
  },
  {
   "cell_type": "code",
   "execution_count": 12,
   "id": "e9dcbd1e",
   "metadata": {},
   "outputs": [
    {
     "name": "stdout",
     "output_type": "stream",
     "text": [
      "Tuned Logistic Regression Report:\n",
      "              precision    recall  f1-score   support\n",
      "\n",
      "           0       0.58      1.00      0.74      1081\n",
      "           1       0.00      0.00      0.00       777\n",
      "\n",
      "    accuracy                           0.58      1858\n",
      "   macro avg       0.29      0.50      0.37      1858\n",
      "weighted avg       0.34      0.58      0.43      1858\n",
      "\n",
      "Tuned Random Forest Report:\n",
      "              precision    recall  f1-score   support\n",
      "\n",
      "           0       0.58      0.84      0.69      1081\n",
      "           1       0.41      0.16      0.23       777\n",
      "\n",
      "    accuracy                           0.55      1858\n",
      "   macro avg       0.50      0.50      0.46      1858\n",
      "weighted avg       0.51      0.55      0.50      1858\n",
      "\n"
     ]
    },
    {
     "name": "stderr",
     "output_type": "stream",
     "text": [
      "C:\\Users\\Harmandeep Kaur\\Anaconda\\Lib\\site-packages\\sklearn\\metrics\\_classification.py:1344: UndefinedMetricWarning: Precision and F-score are ill-defined and being set to 0.0 in labels with no predicted samples. Use `zero_division` parameter to control this behavior.\n",
      "  _warn_prf(average, modifier, msg_start, len(result))\n",
      "C:\\Users\\Harmandeep Kaur\\Anaconda\\Lib\\site-packages\\sklearn\\metrics\\_classification.py:1344: UndefinedMetricWarning: Precision and F-score are ill-defined and being set to 0.0 in labels with no predicted samples. Use `zero_division` parameter to control this behavior.\n",
      "  _warn_prf(average, modifier, msg_start, len(result))\n",
      "C:\\Users\\Harmandeep Kaur\\Anaconda\\Lib\\site-packages\\sklearn\\metrics\\_classification.py:1344: UndefinedMetricWarning: Precision and F-score are ill-defined and being set to 0.0 in labels with no predicted samples. Use `zero_division` parameter to control this behavior.\n",
      "  _warn_prf(average, modifier, msg_start, len(result))\n"
     ]
    },
    {
     "data": {
      "image/png": "[encoded data removed]",
      "text/plain": [
       "<Figure size 1200x500 with 4 Axes>"
      ]
     },
     "metadata": {},
     "output_type": "display_data"
    }
   ],
   "source": [
    "from sklearn.metrics import confusion_matrix\n",
    "import seaborn as sns\n",
    "import matplotlib.pyplot as plt\n",
    "\n",
    "# Predictions from best estimators\n",
    "log_best_pred = log_grid.predict(X_test)\n",
    "rf_best_pred = rf_grid.predict(X_test)\n",
    "\n",
    "print(\"Tuned Logistic Regression Report:\")\n",
    "print(classification_report(y_test, log_best_pred))\n",
    "\n",
    "print(\"Tuned Random Forest Report:\")\n",
    "print(classification_report(y_test, rf_best_pred))\n",
    "\n",
    "# Confusion Matrices\n",
    "fig, axes = plt.subplots(1, 2, figsize=(12, 5))\n",
    "sns.heatmap(confusion_matrix(y_test, log_best_pred), annot=True, fmt='d', cmap='Blues', ax=axes[0])\n",
    "axes[0].set_title('Logistic Regression')\n",
    "\n",
    "sns.heatmap(confusion_matrix(y_test, rf_best_pred), annot=True, fmt='d', cmap='Greens', ax=axes[1])\n",
    "axes[1].set_title('Random Forest')\n",
    "\n",
    "plt.show()\n"
   ]
  },
  {
   "cell_type": "markdown",
   "id": "93453eb4",
   "metadata": {},
   "source": [
    "#### Final Model Selection & Prediction"
   ]
  },
  {
   "cell_type": "code",
   "execution_count": 13,
   "id": "aeb9e15e",
   "metadata": {},
   "outputs": [],
   "source": [
    "# Assume Random Forest performed better\n",
    "final_model = rf_grid.best_estimator_\n",
    "final_model.fit(X_train, y_train)\n",
    "final_predictions = final_model.predict(X_test)\n"
   ]
  },
  {
   "cell_type": "markdown",
   "id": "ea7a8f3f",
   "metadata": {},
   "source": [
    "#### Export Final Model"
   ]
  },
  {
   "cell_type": "code",
   "execution_count": 14,
   "id": "cfc249f2",
   "metadata": {},
   "outputs": [
    {
     "name": "stdout",
     "output_type": "stream",
     "text": [
      "Model exported as final_churn_model.pkl\n"
     ]
    }
   ],
   "source": [
    "import joblib\n",
    "joblib.dump(final_model, 'final_churn_model.pkl')\n",
    "print(\"Model exported as final_churn_model.pkl\")\n"
   ]
  },
  {
   "cell_type": "markdown",
   "id": "5c906b6e",
   "metadata": {},
   "source": [
    "#### Project Summary"
   ]
  },
  {
   "cell_type": "markdown",
   "id": "0edf0569",
   "metadata": {},
   "source": [
    "- Two models were trained: Logistic Regression and Random Forest.\n",
    "\n",
    "- Hyperparameter tuning was applied using GridSearchCV.\n",
    "\n",
    "- Based on F1-score and recall, Random Forest performed better and was selected as the final model.\n",
    "\n",
    "- The model was exported and is now ready for deployment or integration into an application.\n",
    "\n",
    "- Key predictors of churn include engagement behavior and subscription type.\n"
   ]
  }
 ],
 "metadata": {
  "kernelspec": {
   "display_name": "Python 3 (ipykernel)",
   "language": "python",
   "name": "python3"
  },
  "language_info": {
   "codemirror_mode": {
    "name": "ipython",
    "version": 3
   },
   "file_extension": ".py",
   "mimetype": "text/x-python",
   "name": "python",
   "nbconvert_exporter": "python",
   "pygments_lexer": "ipython3",
   "version": "3.11.7"
  }
 },
 "nbformat": 4,
 "nbformat_minor": 5
}
